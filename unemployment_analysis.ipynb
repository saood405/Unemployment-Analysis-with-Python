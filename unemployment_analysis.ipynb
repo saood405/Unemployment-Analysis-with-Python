
{
 "cells": [
  {
   "cell_type": "code",
   "execution_count": null,
   "id": "import-libraries",
   "metadata": {},
   "outputs": [],
   "source": [
    "import pandas as pd\n",
    "import matplotlib.pyplot as plt\n",
    "import seaborn as sns"
   ]
  },
  {
   "cell_type": "code",
   "execution_count": null,
   "id": "load-data",
   "metadata": {},
   "outputs": [],
   "source": [
    "df = pd.read_csv('Pakistan_Unemployment.csv')\n",
    "df"
   ]
  },
  {
   "cell_type": "code",
   "execution_count": null,
   "id": "visualize-line-chart",
   "metadata": {},
   "outputs": [],
   "source": [
    "plt.figure(figsize=(10,5))\n",
    "sns.lineplot(data=df, x='Year', y='Unemployment Rate (%)', marker='o')\n",
    "plt.title('Unemployment Rate in Pakistan (2010–2022)')\n",
    "plt.ylabel('Unemployment Rate (%)')\n",
    "plt.grid(True)\n",
    "plt.show()"
   ]
  },
  {
   "cell_type": "code",
   "execution_count": null,
   "id": "insights",
   "metadata": {},
   "outputs": [],
   "source": [
    "# Insights\n",
    "print('Highest unemployment rate:', df['Unemployment Rate (%)'].max())\n",
    "print('Lowest unemployment rate:', df['Unemployment Rate (%)'].min())"
   ]
  }
 ],
 "metadata": {
  "kernelspec": {
   "display_name": "Python 3",
   "language": "python",
   "name": "python3"
  },
  "language_info": {
   "name": "python",
   "version": "3.9"
  }
 },
 "nbformat": 4,
 "nbformat_minor": 5
}
